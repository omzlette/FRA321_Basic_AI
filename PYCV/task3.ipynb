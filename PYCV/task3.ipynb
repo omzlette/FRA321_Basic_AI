{
 "cells": [
  {
   "cell_type": "markdown",
   "metadata": {},
   "source": [
    "# **Task 3: Histogram Equalization**"
   ]
  },
  {
   "cell_type": "markdown",
   "metadata": {},
   "source": [
    "Given the following 5x5 image, apply histogram equalization to it.\n",
    "\n",
    "> [5,3,1,0,1,0,2,1,0,5,1,5,0,1,2,4,2,6,2,1,6,2,0,1,5]"
   ]
  },
  {
   "cell_type": "markdown",
   "metadata": {},
   "source": [
    "## **Solution**"
   ]
  },
  {
   "cell_type": "markdown",
   "metadata": {},
   "source": [
    "### **Step 1: Define the image**"
   ]
  },
  {
   "cell_type": "code",
   "execution_count": 1,
   "metadata": {},
   "outputs": [
    {
     "name": "stdout",
     "output_type": "stream",
     "text": [
      "Image Bits: \n",
      "[[5 3 1 0 1]\n",
      " [0 2 1 0 5]\n",
      " [1 5 0 1 2]\n",
      " [4 2 6 2 1]\n",
      " [6 2 0 1 5]]\n",
      "Image Shape: (5, 5)\n",
      "Max Value: 6\n"
     ]
    }
   ],
   "source": [
    "import numpy as np\n",
    "\n",
    "imgArr = np.array([5,3,1,0,1,0,2,1,0,5,1,5,0,1,2,4,2,6,2,1,6,2,0,1,5])\n",
    "imgArr = imgArr.reshape(5,5)\n",
    "\n",
    "maxVal = np.max(imgArr)\n",
    "\n",
    "print(f'Image Bits: \\n{imgArr}')\n",
    "print(f'Image Shape: {imgArr.shape}')\n",
    "print(f'Max Value: {maxVal}')"
   ]
  },
  {
   "cell_type": "markdown",
   "metadata": {},
   "source": [
    "### **Step 2: Find Histogram and Cumulative Distribution Function (CDF)**\n",
    "\n",
    "From the above, we can see that the maximum value of this image is **6**. So, our histogram will have a size of **8** (0 to 7 / 2^3), which also means that the maximum value will change to **7**."
   ]
  },
  {
   "cell_type": "code",
   "execution_count": 2,
   "metadata": {},
   "outputs": [
    {
     "name": "stdout",
     "output_type": "stream",
     "text": [
      "Histogram: [5 7 5 1 1 4 2 0]\n",
      "Probability of each intensity: [0.2  0.28 0.2  0.04 0.04 0.16 0.08 0.  ]\n",
      "CDF: [0.2  0.48 0.68 0.72 0.76 0.92 1.   1.  ]\n",
      "New Max Value: 7\n"
     ]
    }
   ],
   "source": [
    "hist, _ = np.histogram(imgArr, bins=8, range=(0,7))\n",
    "\n",
    "maxVal = 7\n",
    "\n",
    "prob = hist / imgArr.size\n",
    "\n",
    "cdf = np.cumsum(prob)\n",
    "\n",
    "print(f'Histogram: {hist}')\n",
    "print(f'Probability of each intensity: {prob}')\n",
    "print(f'CDF: {cdf}')\n",
    "print(f'New Max Value: {maxVal}')"
   ]
  },
  {
   "cell_type": "markdown",
   "metadata": {},
   "source": [
    "### **Step 3: Find the Transfer Function**\n",
    "\n",
    "After finding the CDF, we will find the transfer function by multiplying each value of CDF with the maximum value of the image (6)."
   ]
  },
  {
   "cell_type": "code",
   "execution_count": 3,
   "metadata": {},
   "outputs": [
    {
     "name": "stdout",
     "output_type": "stream",
     "text": [
      "Transfer Function: [1 3 4 5 5 6 7 7]\n"
     ]
    }
   ],
   "source": [
    "S = np.floor(maxVal * cdf).astype(int)\n",
    "\n",
    "print(f'Transfer Function: {S}')"
   ]
  },
  {
   "cell_type": "markdown",
   "metadata": {},
   "source": [
    "### **Step 4: Apply the Transfer Function**"
   ]
  },
  {
   "cell_type": "code",
   "execution_count": 4,
   "metadata": {},
   "outputs": [
    {
     "name": "stdout",
     "output_type": "stream",
     "text": [
      "Original Image: \n",
      "[[5 3 1 0 1]\n",
      " [0 2 1 0 5]\n",
      " [1 5 0 1 2]\n",
      " [4 2 6 2 1]\n",
      " [6 2 0 1 5]]\n",
      "New Image: \n",
      "[[6 5 3 1 3]\n",
      " [1 4 3 1 6]\n",
      " [3 6 1 3 4]\n",
      " [5 4 7 4 3]\n",
      " [7 4 1 3 6]]\n"
     ]
    }
   ],
   "source": [
    "newimg = S[imgArr]\n",
    "\n",
    "print(f'Original Image: \\n{imgArr}')\n",
    "print(f'New Image: \\n{newimg}')"
   ]
  }
 ],
 "metadata": {
  "kernelspec": {
   "display_name": "Python 3 (ipykernel)",
   "language": "python",
   "name": "python3"
  },
  "language_info": {
   "codemirror_mode": {
    "name": "ipython",
    "version": 3
   },
   "file_extension": ".py",
   "mimetype": "text/x-python",
   "name": "python",
   "nbconvert_exporter": "python",
   "pygments_lexer": "ipython3",
   "version": "3.9.13"
  },
  "vscode": {
   "interpreter": {
    "hash": "11938c6bc6919ae2720b4d5011047913343b08a43b18698fd82dedb0d4417594"
   }
  }
 },
 "nbformat": 4,
 "nbformat_minor": 2
}
